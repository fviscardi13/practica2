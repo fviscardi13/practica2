{
  "nbformat": 4,
  "nbformat_minor": 0,
  "metadata": {
    "colab": {
      "name": "Untitled0.ipynb",
      "provenance": [],
      "collapsed_sections": [],
      "toc_visible": true
    },
    "kernelspec": {
      "name": "python3",
      "display_name": "Python 3"
    },
    "language_info": {
      "name": "python"
    }
  },
  "cells": [
    {
      "cell_type": "markdown",
      "source": [
        "#### Ejercicio 10, Practica 2, Ejercicio entrega"
      ],
      "metadata": {
        "id": "QqDiGUjrrM-P"
      }
    },
    {
      "cell_type": "code",
      "source": [
        "from dataclasses import replace\n",
        "def leer_archivo_nom(): \n",
        "    with open('nombres_1.txt' , encoding = \"utf8\") as nombres: \n",
        "        nom = nombres.read() \n",
        "        return nom"
      ],
      "metadata": {
        "id": "bOImFqmcsgJi"
      },
      "execution_count": 2,
      "outputs": []
    },
    {
      "cell_type": "markdown",
      "source": [
        "\n",
        "###Funcion para leer los nombres del archivo nombres_1.txt\n",
        "\n",
        "1° Apertura del archivo de texto nombres_1\n",
        "\n",
        "2° Leo el contenido del archivo y lo asigno a una variable llamada nom"
      ],
      "metadata": {
        "id": "SA6tozrxslNs"
      }
    },
    {
      "cell_type": "code",
      "source": [
        "def leer_notas(arc_notas): \n",
        "    with open(arc_notas, 'r') as notas:\n",
        "        nota = notas.read() \n",
        "        return nota"
      ],
      "metadata": {
        "id": "ST43j6RVs7uN"
      },
      "execution_count": 3,
      "outputs": []
    },
    {
      "cell_type": "markdown",
      "source": [
        "### Funcion para leer las notas\n",
        "\n",
        "1° Apertura del archivo de texto eval1\n",
        "\n",
        "2° Leo el contenido del archivo y lo asigno a una variable llamada notas"
      ],
      "metadata": {
        "id": "L2Velc1-s_T8"
      }
    },
    {
      "cell_type": "code",
      "source": [
        "def acomodar_nombre(nombres):\n",
        "    nombres = nombres.replace(\",\", '').replace(\"'\",'') \n",
        "    lista = nombres.split(\"\\n\")\n",
        "    lista = list(filter(None, lista))\n",
        "    return lista\n"
      ],
      "metadata": {
        "id": "h4x_edKTtaAa"
      },
      "execution_count": 4,
      "outputs": []
    },
    {
      "cell_type": "markdown",
      "source": [
        "###Funcion que acomoda la lista de nombres para que sean solo los nombres y no caracteres especiales\n",
        "\n",
        "1° Elimino las comas y las comillas del texto nombres_1 \n",
        "\n",
        "2° Separo los nombres\n",
        "\n",
        "3° Obtengo una lista de los nombres de los estudiantes sin elementos vacios "
      ],
      "metadata": {
        "id": "1m2cn9KFtmyQ"
      }
    },
    {
      "cell_type": "code",
      "source": [
        "def acomodar_notas(notas): \n",
        "    notas = notas.replace(\",\", '')\n",
        "    notas = notas.split(\"\\n\")\n",
        "    notas = list(filter(None, notas)) \n",
        "    notas = list(map(int, notas)) \n",
        "    return notas\n"
      ],
      "metadata": {
        "id": "rZkGdSuIvBnB"
      },
      "execution_count": 5,
      "outputs": []
    },
    {
      "cell_type": "markdown",
      "source": [
        "### Funcion que acomoda las notas\n",
        "1° elimino las comas\n",
        "\n",
        "2° Acomoda las notas una por una\n",
        "\n",
        "3° Elimino los elementos vacios de la lista de notas\n",
        "\n",
        "4° Transformo las notas que eran de tipo string a integer para poder hacer los calculos"
      ],
      "metadata": {
        "id": "xEY9O0UyvIND"
      }
    },
    {
      "cell_type": "code",
      "source": [
        "def funcion_nombres():#funcion para juntar todo lo relacionado con llamadas a metodos para poder tener los nombres de los estudiantes\n",
        "    nombres = leer_archivo_nom() # asigno a la variables nombres, los nombres de los estudiantes que estaban en el archivo\n",
        "    lista = acomodar_nombre(nombres) # lista obtiene de acomodar_nombre una lista sin comas y separados uno a uno\n",
        "    return lista\n"
      ],
      "metadata": {
        "id": "R5gkOIjJvkv9"
      },
      "execution_count": 6,
      "outputs": []
    },
    {
      "cell_type": "markdown",
      "source": [
        "###Funcion para juntar todo lo relacionado con llamadas a metodos para poder tener los nombres de los estudiantes\n",
        "\n",
        "1° Asigno a la variables nombres, los nombres de los estudiantes que estaban en el archivo\n",
        "\n",
        "2° Lista obtiene de acomodar_nombre una lista sin comas y separados uno a uno"
      ],
      "metadata": {
        "id": "otRoBI0zvqnG"
      }
    },
    {
      "cell_type": "code",
      "source": [
        "def funcion_notas1():\n",
        "    arc_notas = 'eval1.txt' \n",
        "    notas1 = leer_notas(arc_notas) \n",
        "    notas1 = acomodar_notas(notas1)\n",
        "    return notas1"
      ],
      "metadata": {
        "id": "hLDB9RIDv1z8"
      },
      "execution_count": 7,
      "outputs": []
    },
    {
      "cell_type": "markdown",
      "source": [
        "###Funcion para juntar todo lo relacionado con llamadas a metodos para poder tener las notas de los estudiantes, en este caso la primera evaluacion\n",
        "\n",
        "1° Nombre del archivo a abrir\n",
        "\n",
        "2° Obtengo una lista con los elementos del archivo 'eval1.txt'\n",
        "\n",
        "3° Elimino las comas y separo las nota una a una"
      ],
      "metadata": {
        "id": "bFSaPVz9wPhg"
      }
    },
    {
      "cell_type": "code",
      "source": [
        "def funcion_notas2():\n",
        "    arc_notas = 'eval2.txt'\n",
        "    notas2 = leer_notas(arc_notas)\n",
        "    notas2 = acomodar_notas(notas2)\n",
        "    return notas2"
      ],
      "metadata": {
        "id": "Hry0TS8_wpC8"
      },
      "execution_count": 8,
      "outputs": []
    },
    {
      "cell_type": "markdown",
      "source": [
        "###Funcion igual que funcion_notas2 pero exavlua las segundas notas\n"
      ],
      "metadata": {
        "id": "ESNM0RrgwvL6"
      }
    },
    {
      "cell_type": "code",
      "source": [
        "def generar_estructura_y_caluclo_prom(lista, notas1, notas2):\n",
        "    lista_alumnos = [] \n",
        "    prom = 0 \n",
        "    for i in range (len(lista)):\n",
        "        prom = prom + (notas1[i] + notas2[i])\n",
        "        tupla = (lista[i], (notas1[i] + notas2[i])) \n",
        "        lista_alumnos.append(tupla) \n",
        "    prom = prom / len(lista_alumnos)\n",
        "    lista = []\n",
        "    lista.append(lista_alumnos)\n",
        "    lista.append(prom)\n",
        "    return lista"
      ],
      "metadata": {
        "id": "IWXC_liVxYZo"
      },
      "execution_count": 9,
      "outputs": []
    },
    {
      "cell_type": "markdown",
      "source": [
        "### Recibo la lista de nombres y las dos listas de notas\n",
        "\n",
        "1° Creo una lista vacia\n",
        "\n",
        "2° Inicializo el contador para el promedio en 0\n",
        "\n",
        "3° Proceso todos los alumnos\n",
        "\n",
        "4° Creo una tupla con el nombre del alumno y la suma de sus dos notas\n",
        "\n",
        "5° Asigno la tupla creada una lista nueva llamada lista_alumnos\n",
        "\n",
        "6° Saco promedio"
      ],
      "metadata": {
        "id": "YobdBqcHxaED"
      }
    },
    {
      "cell_type": "code",
      "source": [
        "def informar_alumnos_menor_prom(lista, prom):\n",
        "    for i in range(len(lista)):\n",
        "        if (lista[i][1] < prom): \n",
        "               print(\"El alumno {} tiene como suma de las notas totales menor al promedio\".format(lista[i][0])) #informo el alumno"
      ],
      "metadata": {
        "id": "94IJIYUj6Q8g"
      },
      "execution_count": 10,
      "outputs": []
    },
    {
      "cell_type": "markdown",
      "source": [
        "### Funcion para informar a los alumnos que tienen una nota menor que el promedio\n",
        "\n",
        "1° Recorro la lista de alumnos\n",
        "\n",
        "2° Si la nota del alumno es menor que el promedio general\n",
        "\n",
        "3° informo el alumno"
      ],
      "metadata": {
        "id": "YU6TylbH6kgR"
      }
    },
    {
      "cell_type": "code",
      "source": [
        "nombres = funcion_nombres()\n",
        "notas1 = funcion_notas1()\n",
        "notas2 = funcion_notas2()\n",
        "lista = generar_estructura_y_caluclo_prom(nombres, notas1, notas2)\n",
        "prom = lista[1]\n",
        "lista_alumnos = lista[0]\n",
        "informar_alumnos_menor_prom(lista_alumnos, prom)"
      ],
      "metadata": {
        "colab": {
          "base_uri": "https://localhost:8080/",
          "height": 382
        },
        "id": "a5qFlLZU6rs0",
        "outputId": "c5fd8bec-bdc6-4e4b-f66c-dea359b74d49"
      },
      "execution_count": 11,
      "outputs": [
        {
          "output_type": "error",
          "ename": "FileNotFoundError",
          "evalue": "ignored",
          "traceback": [
            "\u001b[0;31m---------------------------------------------------------------------------\u001b[0m",
            "\u001b[0;31mFileNotFoundError\u001b[0m                         Traceback (most recent call last)",
            "\u001b[0;32m<ipython-input-11-705970a373b0>\u001b[0m in \u001b[0;36m<module>\u001b[0;34m()\u001b[0m\n\u001b[0;32m----> 1\u001b[0;31m \u001b[0mnombres\u001b[0m \u001b[0;34m=\u001b[0m \u001b[0mfuncion_nombres\u001b[0m\u001b[0;34m(\u001b[0m\u001b[0;34m)\u001b[0m\u001b[0;34m\u001b[0m\u001b[0;34m\u001b[0m\u001b[0m\n\u001b[0m\u001b[1;32m      2\u001b[0m \u001b[0mnotas1\u001b[0m \u001b[0;34m=\u001b[0m \u001b[0mfuncion_notas1\u001b[0m\u001b[0;34m(\u001b[0m\u001b[0;34m)\u001b[0m\u001b[0;34m\u001b[0m\u001b[0;34m\u001b[0m\u001b[0m\n\u001b[1;32m      3\u001b[0m \u001b[0mnotas2\u001b[0m \u001b[0;34m=\u001b[0m \u001b[0mfuncion_notas2\u001b[0m\u001b[0;34m(\u001b[0m\u001b[0;34m)\u001b[0m\u001b[0;34m\u001b[0m\u001b[0;34m\u001b[0m\u001b[0m\n\u001b[1;32m      4\u001b[0m \u001b[0mlista\u001b[0m \u001b[0;34m=\u001b[0m \u001b[0mgenerar_estructura_y_caluclo_prom\u001b[0m\u001b[0;34m(\u001b[0m\u001b[0mnombres\u001b[0m\u001b[0;34m,\u001b[0m \u001b[0mnotas1\u001b[0m\u001b[0;34m,\u001b[0m \u001b[0mnotas2\u001b[0m\u001b[0;34m)\u001b[0m\u001b[0;34m\u001b[0m\u001b[0;34m\u001b[0m\u001b[0m\n\u001b[1;32m      5\u001b[0m \u001b[0mprom\u001b[0m \u001b[0;34m=\u001b[0m \u001b[0mlista\u001b[0m\u001b[0;34m[\u001b[0m\u001b[0;36m1\u001b[0m\u001b[0;34m]\u001b[0m\u001b[0;34m\u001b[0m\u001b[0;34m\u001b[0m\u001b[0m\n",
            "\u001b[0;32m<ipython-input-6-c686a5be0e7d>\u001b[0m in \u001b[0;36mfuncion_nombres\u001b[0;34m()\u001b[0m\n\u001b[1;32m      1\u001b[0m \u001b[0;32mdef\u001b[0m \u001b[0mfuncion_nombres\u001b[0m\u001b[0;34m(\u001b[0m\u001b[0;34m)\u001b[0m\u001b[0;34m:\u001b[0m\u001b[0;31m#funcion para juntar todo lo relacionado con llamadas a metodos para poder tener los nombres de los estudiantes\u001b[0m\u001b[0;34m\u001b[0m\u001b[0;34m\u001b[0m\u001b[0m\n\u001b[0;32m----> 2\u001b[0;31m     \u001b[0mnombres\u001b[0m \u001b[0;34m=\u001b[0m \u001b[0mleer_archivo_nom\u001b[0m\u001b[0;34m(\u001b[0m\u001b[0;34m)\u001b[0m \u001b[0;31m# asigno a la variables nombres, los nombres de los estudiantes que estaban en el archivo\u001b[0m\u001b[0;34m\u001b[0m\u001b[0;34m\u001b[0m\u001b[0m\n\u001b[0m\u001b[1;32m      3\u001b[0m     \u001b[0mlista\u001b[0m \u001b[0;34m=\u001b[0m \u001b[0macomodar_nombre\u001b[0m\u001b[0;34m(\u001b[0m\u001b[0mnombres\u001b[0m\u001b[0;34m)\u001b[0m \u001b[0;31m# lista obtiene de acomodar_nombre una lista sin comas y separados uno a uno\u001b[0m\u001b[0;34m\u001b[0m\u001b[0;34m\u001b[0m\u001b[0m\n\u001b[1;32m      4\u001b[0m     \u001b[0;32mreturn\u001b[0m \u001b[0mlista\u001b[0m\u001b[0;34m\u001b[0m\u001b[0;34m\u001b[0m\u001b[0m\n",
            "\u001b[0;32m<ipython-input-2-f3820f6876f5>\u001b[0m in \u001b[0;36mleer_archivo_nom\u001b[0;34m()\u001b[0m\n\u001b[1;32m      1\u001b[0m \u001b[0;32mfrom\u001b[0m \u001b[0mdataclasses\u001b[0m \u001b[0;32mimport\u001b[0m \u001b[0mreplace\u001b[0m\u001b[0;34m\u001b[0m\u001b[0;34m\u001b[0m\u001b[0m\n\u001b[1;32m      2\u001b[0m \u001b[0;32mdef\u001b[0m \u001b[0mleer_archivo_nom\u001b[0m\u001b[0;34m(\u001b[0m\u001b[0;34m)\u001b[0m\u001b[0;34m:\u001b[0m\u001b[0;34m\u001b[0m\u001b[0;34m\u001b[0m\u001b[0m\n\u001b[0;32m----> 3\u001b[0;31m     \u001b[0;32mwith\u001b[0m \u001b[0mopen\u001b[0m\u001b[0;34m(\u001b[0m\u001b[0;34m'nombres_1.txt'\u001b[0m \u001b[0;34m,\u001b[0m \u001b[0mencoding\u001b[0m \u001b[0;34m=\u001b[0m \u001b[0;34m\"utf8\"\u001b[0m\u001b[0;34m)\u001b[0m \u001b[0;32mas\u001b[0m \u001b[0mnombres\u001b[0m\u001b[0;34m:\u001b[0m\u001b[0;34m\u001b[0m\u001b[0;34m\u001b[0m\u001b[0m\n\u001b[0m\u001b[1;32m      4\u001b[0m         \u001b[0mnom\u001b[0m \u001b[0;34m=\u001b[0m \u001b[0mnombres\u001b[0m\u001b[0;34m.\u001b[0m\u001b[0mread\u001b[0m\u001b[0;34m(\u001b[0m\u001b[0;34m)\u001b[0m\u001b[0;34m\u001b[0m\u001b[0;34m\u001b[0m\u001b[0m\n\u001b[1;32m      5\u001b[0m         \u001b[0;32mreturn\u001b[0m \u001b[0mnom\u001b[0m\u001b[0;34m\u001b[0m\u001b[0;34m\u001b[0m\u001b[0m\n",
            "\u001b[0;31mFileNotFoundError\u001b[0m: [Errno 2] No such file or directory: 'nombres_1.txt'"
          ]
        }
      ]
    },
    {
      "cell_type": "markdown",
      "source": [
        "### Llamo a las funciones del programa"
      ],
      "metadata": {
        "id": "CdTsE1e67IrT"
      }
    }
  ]
}